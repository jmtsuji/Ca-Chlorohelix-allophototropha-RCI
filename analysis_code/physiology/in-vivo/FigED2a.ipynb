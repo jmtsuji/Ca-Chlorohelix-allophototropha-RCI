{
 "cells": [
  {
   "cell_type": "code",
   "execution_count": 1,
   "metadata": {},
   "outputs": [],
   "source": [
    "# Plot in vivo spectrum data from the Shimadzu UV-1800\n",
    "# Jackson M. Tsuji, 2022"
   ]
  },
  {
   "cell_type": "code",
   "execution_count": 2,
   "metadata": {},
   "outputs": [],
   "source": [
    "import pandas as pd\n",
    "from plotnine import *"
   ]
  },
  {
   "cell_type": "code",
   "execution_count": 3,
   "metadata": {},
   "outputs": [],
   "source": [
    "def read_shimadzu_csv_spectra(filepath, sample_name, normalize_chlorosome=False, start_nm=None, end_nm=None, multiplier=1, offset=0):\n",
    "    \n",
    "    spectrum_data = pd.read_csv(filepath, sep=',', skiprows=1)\\\n",
    "      .rename(columns={'WL/nm': 'Wavelength (nm)', 'Abs':'Absorbance'})\n",
    "    \n",
    "    spectrum_data['Sample'] = sample_name\n",
    "    \n",
    "    if normalize_chlorosome is True:\n",
    "        spectrum_data_chlorosome = spectrum_data[(spectrum_data['Wavelength (nm)'] > 700) & (spectrum_data['Wavelength (nm)'] < 800)]\n",
    "        chlorosome_peak_height = spectrum_data_chlorosome['Absorbance'].max()\n",
    "        chlorosome_peak_location = spectrum_data_chlorosome[spectrum_data_chlorosome['Absorbance'] == chlorosome_peak_height]['Wavelength (nm)'].to_list()[0]\n",
    "        \n",
    "        print('Normalizing sample \"' + sample_name + '\" to chlorosome peak height ' + str(chlorosome_peak_height) + ' at wavelength ' + str(chlorosome_peak_location))\n",
    "        spectrum_data['Absorbance'] = spectrum_data['Absorbance'] / chlorosome_peak_height\n",
    "    \n",
    "    if start_nm is not None:\n",
    "        spectrum_data = spectrum_data[spectrum_data['Wavelength (nm)'] >= start_nm]\n",
    "    \n",
    "    if end_nm is not None:\n",
    "        spectrum_data = spectrum_data[spectrum_data['Wavelength (nm)'] <= end_nm]\n",
    "    \n",
    "    spectrum_data['Absorbance'] = spectrum_data['Absorbance'] * multiplier + offset\n",
    "    \n",
    "    return(spectrum_data)"
   ]
  },
  {
   "cell_type": "code",
   "execution_count": 4,
   "metadata": {},
   "outputs": [
    {
     "data": {
      "text/html": [
       "<div>\n",
       "<style scoped>\n",
       "    .dataframe tbody tr th:only-of-type {\n",
       "        vertical-align: middle;\n",
       "    }\n",
       "\n",
       "    .dataframe tbody tr th {\n",
       "        vertical-align: top;\n",
       "    }\n",
       "\n",
       "    .dataframe thead th {\n",
       "        text-align: right;\n",
       "    }\n",
       "</style>\n",
       "<table border=\"1\" class=\"dataframe\">\n",
       "  <thead>\n",
       "    <tr style=\"text-align: right;\">\n",
       "      <th></th>\n",
       "      <th>Wavelength (nm)</th>\n",
       "      <th>Absorbance</th>\n",
       "      <th>Sample</th>\n",
       "    </tr>\n",
       "  </thead>\n",
       "  <tbody>\n",
       "    <tr>\n",
       "      <th>200</th>\n",
       "      <td>900.0</td>\n",
       "      <td>0.480</td>\n",
       "      <td>Ca. Chx. allophototropha</td>\n",
       "    </tr>\n",
       "    <tr>\n",
       "      <th>201</th>\n",
       "      <td>899.0</td>\n",
       "      <td>0.480</td>\n",
       "      <td>Ca. Chx. allophototropha</td>\n",
       "    </tr>\n",
       "    <tr>\n",
       "      <th>202</th>\n",
       "      <td>898.0</td>\n",
       "      <td>0.480</td>\n",
       "      <td>Ca. Chx. allophototropha</td>\n",
       "    </tr>\n",
       "    <tr>\n",
       "      <th>203</th>\n",
       "      <td>897.0</td>\n",
       "      <td>0.481</td>\n",
       "      <td>Ca. Chx. allophototropha</td>\n",
       "    </tr>\n",
       "    <tr>\n",
       "      <th>204</th>\n",
       "      <td>896.0</td>\n",
       "      <td>0.481</td>\n",
       "      <td>Ca. Chx. allophototropha</td>\n",
       "    </tr>\n",
       "  </tbody>\n",
       "</table>\n",
       "</div>"
      ],
      "text/plain": [
       "     Wavelength (nm)  Absorbance                    Sample\n",
       "200            900.0       0.480  Ca. Chx. allophototropha\n",
       "201            899.0       0.480  Ca. Chx. allophototropha\n",
       "202            898.0       0.480  Ca. Chx. allophototropha\n",
       "203            897.0       0.481  Ca. Chx. allophototropha\n",
       "204            896.0       0.481  Ca. Chx. allophototropha"
      ]
     },
     "execution_count": 4,
     "metadata": {},
     "output_type": "execute_result"
    }
   ],
   "source": [
    "# Whole cell absorbance spectrum\n",
    "spectrum_chx_cells = read_shimadzu_csv_spectra('input/Ca-Chx-allophototropha-L227-S17-whole-cell-raw.csv', \n",
    "                                               'Ca. Chx. allophototropha', \n",
    "                                               normalize_chlorosome=False, start_nm=600, end_nm=900)\n",
    "spectrum_chx_cells.head()"
   ]
  },
  {
   "cell_type": "code",
   "execution_count": 5,
   "metadata": {},
   "outputs": [
    {
     "name": "stderr",
     "output_type": "stream",
     "text": [
      "/Users/jmtsuji/miniconda3/envs/jupyterlab/lib/python3.12/site-packages/plotnine/utils.py:1231: FutureWarning: is_categorical_dtype is deprecated and will be removed in a future version. Use isinstance(dtype, CategoricalDtype) instead\n",
      "/Users/jmtsuji/miniconda3/envs/jupyterlab/lib/python3.12/site-packages/plotnine/utils.py:317: FutureWarning: is_categorical_dtype is deprecated and will be removed in a future version. Use isinstance(dtype, CategoricalDtype) instead\n"
     ]
    },
    {
     "data": {
      "image/png": "[encoded data removed]",
      "text/plain": [
       "<Figure size 640x480 with 1 Axes>"
      ]
     },
     "metadata": {},
     "output_type": "display_data"
    },
    {
     "data": {
      "text/plain": [
       "<ggplot: (385805731)>"
      ]
     },
     "execution_count": 5,
     "metadata": {},
     "output_type": "execute_result"
    }
   ],
   "source": [
    "spectrum_plot_chx_cells = (ggplot(spectrum_chx_cells, aes(x='Wavelength (nm)', y='Absorbance'))\n",
    "                + geom_path(aes(group='Sample'), size=0.8, alpha=0.9, colour='black')\n",
    "                + theme_bw()\n",
    "                + theme(panel_grid=element_blank(),\n",
    "                       text=element_text(colour='black', family='Arial'),\n",
    "                       panel_border=element_rect(colour='black'),\n",
    "                       axis_text=element_text(size=6),\n",
    "                       axis_title=element_text(size=8.8))\n",
    "                + ylab('Absorbance')\n",
    "                )\n",
    "\n",
    "spectrum_plot_chx_cells"
   ]
  },
  {
   "cell_type": "code",
   "execution_count": 6,
   "metadata": {},
   "outputs": [
    {
     "name": "stderr",
     "output_type": "stream",
     "text": [
      "/Users/jmtsuji/miniconda3/envs/jupyterlab/lib/python3.12/site-packages/plotnine/utils.py:1231: FutureWarning: is_categorical_dtype is deprecated and will be removed in a future version. Use isinstance(dtype, CategoricalDtype) instead\n",
      "/Users/jmtsuji/miniconda3/envs/jupyterlab/lib/python3.12/site-packages/plotnine/utils.py:317: FutureWarning: is_categorical_dtype is deprecated and will be removed in a future version. Use isinstance(dtype, CategoricalDtype) instead\n"
     ]
    }
   ],
   "source": [
    "spectrum_plot_chx_cells.save('in_vivo_spectra_Chx_cells.pdf', width=58, height=45, units='mm', verbose=False)"
   ]
  },
  {
   "cell_type": "code",
   "execution_count": null,
   "metadata": {},
   "outputs": [],
   "source": []
  }
 ],
 "metadata": {
  "kernelspec": {
   "display_name": "Python 3 (ipykernel)",
   "language": "python",
   "name": "python3"
  },
  "language_info": {
   "codemirror_mode": {
    "name": "ipython",
    "version": 3
   },
   "file_extension": ".py",
   "mimetype": "text/x-python",
   "name": "python",
   "nbconvert_exporter": "python",
   "pygments_lexer": "ipython3",
   "version": "3.12.0"
  }
 },
 "nbformat": 4,
 "nbformat_minor": 4
}
