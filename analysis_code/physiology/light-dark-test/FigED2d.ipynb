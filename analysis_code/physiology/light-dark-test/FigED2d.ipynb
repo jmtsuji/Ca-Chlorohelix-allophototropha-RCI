{
 "cells": [
  {
   "cell_type": "code",
   "execution_count": 1,
   "metadata": {},
   "outputs": [],
   "source": [
    "# Plot in vivo spectrum data from the Shimadzu UV-1800\n",
    "# Jackson M. Tsuji, 2022"
   ]
  },
  {
   "cell_type": "code",
   "execution_count": 2,
   "metadata": {},
   "outputs": [],
   "source": [
    "import pandas as pd\n",
    "from plotnine import *\n",
    "import os"
   ]
  },
  {
   "cell_type": "code",
   "execution_count": 3,
   "metadata": {},
   "outputs": [],
   "source": [
    "def read_shimadzu_csv_spectra(filepath, sample_name, normalize_chlorosome=False, start_nm=None, end_nm=None, multiplier=1, offset=0, set_zero=None):\n",
    "    \n",
    "    spectrum_data = pd.read_csv(filepath, sep=',', skiprows=1)\\\n",
    "      .rename(columns={'WL/nm': 'Wavelength (nm)', 'Abs':'Absorbance'})\n",
    "    \n",
    "    spectrum_data['Sample'] = sample_name\n",
    "    \n",
    "    if start_nm is not None:\n",
    "        spectrum_data = spectrum_data[spectrum_data['Wavelength (nm)'] >= start_nm]\n",
    "    \n",
    "    if end_nm is not None:\n",
    "        spectrum_data = spectrum_data[spectrum_data['Wavelength (nm)'] <= end_nm]\n",
    "        \n",
    "    if set_zero == 'Right':\n",
    "        zero_wavelength = spectrum_data['Wavelength (nm)'].max()\n",
    "        zero_target = float(spectrum_data[spectrum_data['Wavelength (nm)'] == zero_wavelength]['Absorbance']) # TODO confirm length is 1\n",
    "        spectrum_data['Absorbance'] = spectrum_data['Absorbance'] - zero_target\n",
    "        \n",
    "    if set_zero == 'Linear':\n",
    "        # y = mx+b\n",
    "        left_wavelength = spectrum_data['Wavelength (nm)'].min()\n",
    "        left_abs = float(spectrum_data[spectrum_data['Wavelength (nm)'] == left_wavelength]['Absorbance']) # TODO confirm length is 1\n",
    "        \n",
    "        right_wavelength = spectrum_data['Wavelength (nm)'].max()\n",
    "        right_abs = float(spectrum_data[spectrum_data['Wavelength (nm)'] == right_wavelength]['Absorbance']) # TODO confirm length is 1\n",
    "        \n",
    "        slope = (right_abs - left_abs) / (right_wavelength - left_wavelength)\n",
    "        yint = left_abs - slope * left_wavelength\n",
    "        \n",
    "        normalized_ys = []\n",
    "        for index, row in spectrum_data.iterrows():\n",
    "            x = float(row['Wavelength (nm)'])\n",
    "            y = float(row['Absorbance'])\n",
    "            expected_y = slope * x + yint\n",
    "            normalized_y = y - expected_y\n",
    "            normalized_ys.append(normalized_y)\n",
    "        \n",
    "        spectrum_data['Absorbance'] = normalized_ys\n",
    "    \n",
    "    if normalize_chlorosome is True:\n",
    "        spectrum_data_chlorosome = spectrum_data[(spectrum_data['Wavelength (nm)'] > 700) & (spectrum_data['Wavelength (nm)'] < 800)]\n",
    "        chlorosome_peak_height = spectrum_data_chlorosome['Absorbance'].max()\n",
    "        chlorosome_peak_location = spectrum_data_chlorosome[spectrum_data_chlorosome['Absorbance'] == chlorosome_peak_height]['Wavelength (nm)'].to_list()[0]\n",
    "        \n",
    "        print('Normalizing sample \"' + sample_name + '\" to chlorosome peak height ' + str(chlorosome_peak_height) + ' at wavelength ' + str(chlorosome_peak_location))\n",
    "        spectrum_data['Absorbance'] = spectrum_data['Absorbance'] / chlorosome_peak_height\n",
    "    \n",
    "    spectrum_data['Absorbance'] = spectrum_data['Absorbance'] * multiplier + offset\n",
    "    \n",
    "    return(spectrum_data)"
   ]
  },
  {
   "cell_type": "code",
   "execution_count": 4,
   "metadata": {},
   "outputs": [
    {
     "data": {
      "text/html": [
       "<div>\n",
       "<style scoped>\n",
       "    .dataframe tbody tr th:only-of-type {\n",
       "        vertical-align: middle;\n",
       "    }\n",
       "\n",
       "    .dataframe tbody tr th {\n",
       "        vertical-align: top;\n",
       "    }\n",
       "\n",
       "    .dataframe thead th {\n",
       "        text-align: right;\n",
       "    }\n",
       "</style>\n",
       "<table border=\"1\" class=\"dataframe\">\n",
       "  <thead>\n",
       "    <tr style=\"text-align: right;\">\n",
       "      <th></th>\n",
       "      <th>Sample</th>\n",
       "      <th>Treatment</th>\n",
       "      <th>Replicate</th>\n",
       "    </tr>\n",
       "  </thead>\n",
       "  <tbody>\n",
       "    <tr>\n",
       "      <th>0</th>\n",
       "      <td>A4</td>\n",
       "      <td>Light + Fe</td>\n",
       "      <td>A</td>\n",
       "    </tr>\n",
       "    <tr>\n",
       "      <th>1</th>\n",
       "      <td>A2</td>\n",
       "      <td>Light + Fe</td>\n",
       "      <td>B</td>\n",
       "    </tr>\n",
       "    <tr>\n",
       "      <th>2</th>\n",
       "      <td>A3</td>\n",
       "      <td>Light + Fe</td>\n",
       "      <td>C</td>\n",
       "    </tr>\n",
       "    <tr>\n",
       "      <th>3</th>\n",
       "      <td>B1</td>\n",
       "      <td>Fe (dark)</td>\n",
       "      <td>A</td>\n",
       "    </tr>\n",
       "    <tr>\n",
       "      <th>4</th>\n",
       "      <td>B2</td>\n",
       "      <td>Fe (dark)</td>\n",
       "      <td>B</td>\n",
       "    </tr>\n",
       "  </tbody>\n",
       "</table>\n",
       "</div>"
      ],
      "text/plain": [
       "  Sample   Treatment Replicate\n",
       "0     A4  Light + Fe         A\n",
       "1     A2  Light + Fe         B\n",
       "2     A3  Light + Fe         C\n",
       "3     B1   Fe (dark)         A\n",
       "4     B2   Fe (dark)         B"
      ]
     },
     "execution_count": 4,
     "metadata": {},
     "output_type": "execute_result"
    }
   ],
   "source": [
    "metadata = pd.read_csv('metadata.tsv', sep='\\t')\\\n",
    "  .rename(columns={'Sample-id':'Sample'})\n",
    "metadata.head()"
   ]
  },
  {
   "cell_type": "code",
   "execution_count": 5,
   "metadata": {},
   "outputs": [
    {
     "data": {
      "text/html": [
       "<div>\n",
       "<style scoped>\n",
       "    .dataframe tbody tr th:only-of-type {\n",
       "        vertical-align: middle;\n",
       "    }\n",
       "\n",
       "    .dataframe tbody tr th {\n",
       "        vertical-align: top;\n",
       "    }\n",
       "\n",
       "    .dataframe thead th {\n",
       "        text-align: right;\n",
       "    }\n",
       "</style>\n",
       "<table border=\"1\" class=\"dataframe\">\n",
       "  <thead>\n",
       "    <tr style=\"text-align: right;\">\n",
       "      <th></th>\n",
       "      <th>Wavelength (nm)</th>\n",
       "      <th>Absorbance</th>\n",
       "      <th>Sample</th>\n",
       "    </tr>\n",
       "  </thead>\n",
       "  <tbody>\n",
       "    <tr>\n",
       "      <th>50</th>\n",
       "      <td>850.0</td>\n",
       "      <td>0.019</td>\n",
       "      <td>A4</td>\n",
       "    </tr>\n",
       "    <tr>\n",
       "      <th>51</th>\n",
       "      <td>849.0</td>\n",
       "      <td>0.019</td>\n",
       "      <td>A4</td>\n",
       "    </tr>\n",
       "    <tr>\n",
       "      <th>52</th>\n",
       "      <td>848.0</td>\n",
       "      <td>0.019</td>\n",
       "      <td>A4</td>\n",
       "    </tr>\n",
       "    <tr>\n",
       "      <th>53</th>\n",
       "      <td>847.0</td>\n",
       "      <td>0.019</td>\n",
       "      <td>A4</td>\n",
       "    </tr>\n",
       "    <tr>\n",
       "      <th>54</th>\n",
       "      <td>846.0</td>\n",
       "      <td>0.019</td>\n",
       "      <td>A4</td>\n",
       "    </tr>\n",
       "  </tbody>\n",
       "</table>\n",
       "</div>"
      ],
      "text/plain": [
       "    Wavelength (nm)  Absorbance Sample\n",
       "50            850.0       0.019     A4\n",
       "51            849.0       0.019     A4\n",
       "52            848.0       0.019     A4\n",
       "53            847.0       0.019     A4\n",
       "54            846.0       0.019     A4"
      ]
     },
     "execution_count": 5,
     "metadata": {},
     "output_type": "execute_result"
    }
   ],
   "source": [
    "# Load\n",
    "all_spectra_list = []\n",
    "\n",
    "for sample in metadata['Sample']:\n",
    "    #print('Loading ' + sample)\n",
    "    \n",
    "    spectrum = read_shimadzu_csv_spectra(os.path.join('input', sample + '.csv'), sample, normalize_chlorosome=False, start_nm=650, end_nm=850, set_zero=None)\n",
    "    all_spectra_list.append(spectrum)\n",
    "\n",
    "spectrum_data = pd.concat(all_spectra_list)\n",
    "spectrum_data.head()"
   ]
  },
  {
   "cell_type": "code",
   "execution_count": 6,
   "metadata": {},
   "outputs": [
    {
     "data": {
      "text/html": [
       "<div>\n",
       "<style scoped>\n",
       "    .dataframe tbody tr th:only-of-type {\n",
       "        vertical-align: middle;\n",
       "    }\n",
       "\n",
       "    .dataframe tbody tr th {\n",
       "        vertical-align: top;\n",
       "    }\n",
       "\n",
       "    .dataframe thead th {\n",
       "        text-align: right;\n",
       "    }\n",
       "</style>\n",
       "<table border=\"1\" class=\"dataframe\">\n",
       "  <thead>\n",
       "    <tr style=\"text-align: right;\">\n",
       "      <th></th>\n",
       "      <th>Wavelength (nm)</th>\n",
       "      <th>Absorbance</th>\n",
       "      <th>Sample</th>\n",
       "      <th>Treatment</th>\n",
       "      <th>Replicate</th>\n",
       "    </tr>\n",
       "  </thead>\n",
       "  <tbody>\n",
       "    <tr>\n",
       "      <th>1206</th>\n",
       "      <td>850.0</td>\n",
       "      <td>0.055</td>\n",
       "      <td>C1</td>\n",
       "      <td>Fe(II) + Ac (light)</td>\n",
       "      <td>A</td>\n",
       "    </tr>\n",
       "    <tr>\n",
       "      <th>1207</th>\n",
       "      <td>849.0</td>\n",
       "      <td>0.055</td>\n",
       "      <td>C1</td>\n",
       "      <td>Fe(II) + Ac (light)</td>\n",
       "      <td>A</td>\n",
       "    </tr>\n",
       "    <tr>\n",
       "      <th>1208</th>\n",
       "      <td>848.0</td>\n",
       "      <td>0.056</td>\n",
       "      <td>C1</td>\n",
       "      <td>Fe(II) + Ac (light)</td>\n",
       "      <td>A</td>\n",
       "    </tr>\n",
       "    <tr>\n",
       "      <th>1209</th>\n",
       "      <td>847.0</td>\n",
       "      <td>0.056</td>\n",
       "      <td>C1</td>\n",
       "      <td>Fe(II) + Ac (light)</td>\n",
       "      <td>A</td>\n",
       "    </tr>\n",
       "    <tr>\n",
       "      <th>1210</th>\n",
       "      <td>846.0</td>\n",
       "      <td>0.056</td>\n",
       "      <td>C1</td>\n",
       "      <td>Fe(II) + Ac (light)</td>\n",
       "      <td>A</td>\n",
       "    </tr>\n",
       "  </tbody>\n",
       "</table>\n",
       "</div>"
      ],
      "text/plain": [
       "      Wavelength (nm)  Absorbance Sample            Treatment Replicate\n",
       "1206            850.0       0.055     C1  Fe(II) + Ac (light)         A\n",
       "1207            849.0       0.055     C1  Fe(II) + Ac (light)         A\n",
       "1208            848.0       0.056     C1  Fe(II) + Ac (light)         A\n",
       "1209            847.0       0.056     C1  Fe(II) + Ac (light)         A\n",
       "1210            846.0       0.056     C1  Fe(II) + Ac (light)         A"
      ]
     },
     "execution_count": 6,
     "metadata": {},
     "output_type": "execute_result"
    }
   ],
   "source": [
    "# Prepare to plot\n",
    "plotting_data = spectrum_data\\\n",
    "  .merge(metadata, on='Sample', how='left')\n",
    "\n",
    "# Note that only acetate treatments will be plotted. \n",
    "# The Fe only treatments had much lower signal intensity, and this may have been due to allowing the cultures to grow a bit too long or other factors. See the Nature Reporting Summary for more.\n",
    "plotting_data = plotting_data[plotting_data['Treatment'].isin(['Light + Fe + acetate', 'Fe + acetate (dark)'])]\n",
    "plotting_data['Treatment'] = plotting_data['Treatment'].map({'Light + Fe + acetate': 'Fe(II) + Ac (light)',\n",
    "                                                             'Fe + acetate (dark)': 'Fe(II) + Ac (dark)'})\n",
    "\n",
    "plotting_data['Treatment'] = pd.Categorical(plotting_data['Treatment'], \n",
    "                                            categories=plotting_data['Treatment'].unique(), ordered=True)\n",
    "\n",
    "plotting_data.head()"
   ]
  },
  {
   "cell_type": "code",
   "execution_count": 7,
   "metadata": {},
   "outputs": [
    {
     "name": "stderr",
     "output_type": "stream",
     "text": [
      "/Users/jmtsuji/miniconda3/envs/jupyterlab/lib/python3.12/site-packages/plotnine/utils.py:317: FutureWarning: is_categorical_dtype is deprecated and will be removed in a future version. Use isinstance(dtype, CategoricalDtype) instead\n",
      "/Users/jmtsuji/miniconda3/envs/jupyterlab/lib/python3.12/site-packages/plotnine/utils.py:317: FutureWarning: is_categorical_dtype is deprecated and will be removed in a future version. Use isinstance(dtype, CategoricalDtype) instead\n",
      "/Users/jmtsuji/miniconda3/envs/jupyterlab/lib/python3.12/site-packages/plotnine/utils.py:317: FutureWarning: is_categorical_dtype is deprecated and will be removed in a future version. Use isinstance(dtype, CategoricalDtype) instead\n",
      "/Users/jmtsuji/miniconda3/envs/jupyterlab/lib/python3.12/site-packages/plotnine/utils.py:317: FutureWarning: is_categorical_dtype is deprecated and will be removed in a future version. Use isinstance(dtype, CategoricalDtype) instead\n",
      "/Users/jmtsuji/miniconda3/envs/jupyterlab/lib/python3.12/site-packages/plotnine/utils.py:317: FutureWarning: is_categorical_dtype is deprecated and will be removed in a future version. Use isinstance(dtype, CategoricalDtype) instead\n",
      "/Users/jmtsuji/miniconda3/envs/jupyterlab/lib/python3.12/site-packages/plotnine/utils.py:317: FutureWarning: is_categorical_dtype is deprecated and will be removed in a future version. Use isinstance(dtype, CategoricalDtype) instead\n",
      "/Users/jmtsuji/miniconda3/envs/jupyterlab/lib/python3.12/site-packages/plotnine/utils.py:1231: FutureWarning: is_categorical_dtype is deprecated and will be removed in a future version. Use isinstance(dtype, CategoricalDtype) instead\n",
      "/Users/jmtsuji/miniconda3/envs/jupyterlab/lib/python3.12/site-packages/plotnine/utils.py:317: FutureWarning: is_categorical_dtype is deprecated and will be removed in a future version. Use isinstance(dtype, CategoricalDtype) instead\n",
      "/Users/jmtsuji/miniconda3/envs/jupyterlab/lib/python3.12/site-packages/plotnine/utils.py:635: FutureWarning: The default of observed=False is deprecated and will be changed to True in a future version of pandas. Pass observed=False to retain current behavior or observed=True to adopt the future default and silence this warning.\n",
      "/Users/jmtsuji/miniconda3/envs/jupyterlab/lib/python3.12/site-packages/plotnine/facets/strips.py:216: FutureWarning: Series.__getitem__ treating keys as positions is deprecated. In a future version, integer keys will always be treated as labels (consistent with DataFrame behavior). To access a value by position, use `ser.iloc[pos]`\n",
      "/Users/jmtsuji/miniconda3/envs/jupyterlab/lib/python3.12/site-packages/plotnine/facets/strips.py:216: FutureWarning: Series.__getitem__ treating keys as positions is deprecated. In a future version, integer keys will always be treated as labels (consistent with DataFrame behavior). To access a value by position, use `ser.iloc[pos]`\n",
      "/Users/jmtsuji/miniconda3/envs/jupyterlab/lib/python3.12/site-packages/plotnine/geoms/geom.py:231: FutureWarning: The default of observed=False is deprecated and will be changed to True in a future version of pandas. Pass observed=False to retain current behavior or observed=True to adopt the future default and silence this warning.\n"
     ]
    },
    {
     "data": {
      "image/png": "[encoded data removed]",
      "text/plain": [
       "<Figure size 640x480 with 6 Axes>"
      ]
     },
     "metadata": {},
     "output_type": "display_data"
    },
    {
     "data": {
      "text/plain": [
       "<ggplot: (385681298)>"
      ]
     },
     "execution_count": 7,
     "metadata": {},
     "output_type": "execute_result"
    }
   ],
   "source": [
    "spectrum_plot = (ggplot(plotting_data, aes(x='Wavelength (nm)', y='Absorbance'))\n",
    "                + geom_path(aes(group='Sample', colour='Treatment'), size=0.8, alpha=1)\n",
    "                + scale_colour_manual(values=['#33a02c', '#b2df8a'])\n",
    "                + theme_bw()\n",
    "                + facet_grid('Treatment ~ Replicate', scales='fixed')\n",
    "                + theme(panel_grid=element_blank(),\n",
    "                       text=element_text(colour='black', family='Arial'),\n",
    "                       panel_border=element_rect(colour='black'),\n",
    "                       axis_title=element_text(size=8.8),\n",
    "                       axis_text=element_text(size=6),\n",
    "                       axis_text_x=element_text(angle=90),\n",
    "                       strip_background_x=element_blank(),\n",
    "                       strip_text_x=element_blank())\n",
    "                + scale_y_continuous(breaks=[0,0.05,0.1,0.15], limits=[0,0.15])\n",
    "                + guides(colour=None)\n",
    "                + ylab('Absorbance')\n",
    "                )\n",
    "\n",
    "spectrum_plot"
   ]
  },
  {
   "cell_type": "code",
   "execution_count": 8,
   "metadata": {},
   "outputs": [
    {
     "name": "stderr",
     "output_type": "stream",
     "text": [
      "/Users/jmtsuji/miniconda3/envs/jupyterlab/lib/python3.12/site-packages/plotnine/utils.py:317: FutureWarning: is_categorical_dtype is deprecated and will be removed in a future version. Use isinstance(dtype, CategoricalDtype) instead\n",
      "/Users/jmtsuji/miniconda3/envs/jupyterlab/lib/python3.12/site-packages/plotnine/utils.py:317: FutureWarning: is_categorical_dtype is deprecated and will be removed in a future version. Use isinstance(dtype, CategoricalDtype) instead\n",
      "/Users/jmtsuji/miniconda3/envs/jupyterlab/lib/python3.12/site-packages/plotnine/utils.py:317: FutureWarning: is_categorical_dtype is deprecated and will be removed in a future version. Use isinstance(dtype, CategoricalDtype) instead\n",
      "/Users/jmtsuji/miniconda3/envs/jupyterlab/lib/python3.12/site-packages/plotnine/utils.py:317: FutureWarning: is_categorical_dtype is deprecated and will be removed in a future version. Use isinstance(dtype, CategoricalDtype) instead\n",
      "/Users/jmtsuji/miniconda3/envs/jupyterlab/lib/python3.12/site-packages/plotnine/utils.py:317: FutureWarning: is_categorical_dtype is deprecated and will be removed in a future version. Use isinstance(dtype, CategoricalDtype) instead\n",
      "/Users/jmtsuji/miniconda3/envs/jupyterlab/lib/python3.12/site-packages/plotnine/utils.py:317: FutureWarning: is_categorical_dtype is deprecated and will be removed in a future version. Use isinstance(dtype, CategoricalDtype) instead\n",
      "/Users/jmtsuji/miniconda3/envs/jupyterlab/lib/python3.12/site-packages/plotnine/utils.py:1231: FutureWarning: is_categorical_dtype is deprecated and will be removed in a future version. Use isinstance(dtype, CategoricalDtype) instead\n",
      "/Users/jmtsuji/miniconda3/envs/jupyterlab/lib/python3.12/site-packages/plotnine/utils.py:317: FutureWarning: is_categorical_dtype is deprecated and will be removed in a future version. Use isinstance(dtype, CategoricalDtype) instead\n",
      "/Users/jmtsuji/miniconda3/envs/jupyterlab/lib/python3.12/site-packages/plotnine/utils.py:635: FutureWarning: The default of observed=False is deprecated and will be changed to True in a future version of pandas. Pass observed=False to retain current behavior or observed=True to adopt the future default and silence this warning.\n",
      "/Users/jmtsuji/miniconda3/envs/jupyterlab/lib/python3.12/site-packages/plotnine/facets/strips.py:216: FutureWarning: Series.__getitem__ treating keys as positions is deprecated. In a future version, integer keys will always be treated as labels (consistent with DataFrame behavior). To access a value by position, use `ser.iloc[pos]`\n",
      "/Users/jmtsuji/miniconda3/envs/jupyterlab/lib/python3.12/site-packages/plotnine/facets/strips.py:216: FutureWarning: Series.__getitem__ treating keys as positions is deprecated. In a future version, integer keys will always be treated as labels (consistent with DataFrame behavior). To access a value by position, use `ser.iloc[pos]`\n",
      "/Users/jmtsuji/miniconda3/envs/jupyterlab/lib/python3.12/site-packages/plotnine/geoms/geom.py:231: FutureWarning: The default of observed=False is deprecated and will be changed to True in a future version of pandas. Pass observed=False to retain current behavior or observed=True to adopt the future default and silence this warning.\n"
     ]
    }
   ],
   "source": [
    "spectrum_plot.save('light_dark_spectra_replicates.pdf', width=75, height=40, units='mm', verbose=False)"
   ]
  },
  {
   "cell_type": "code",
   "execution_count": null,
   "metadata": {},
   "outputs": [],
   "source": []
  }
 ],
 "metadata": {
  "kernelspec": {
   "display_name": "Python 3 (ipykernel)",
   "language": "python",
   "name": "python3"
  },
  "language_info": {
   "codemirror_mode": {
    "name": "ipython",
    "version": 3
   },
   "file_extension": ".py",
   "mimetype": "text/x-python",
   "name": "python",
   "nbconvert_exporter": "python",
   "pygments_lexer": "ipython3",
   "version": "3.12.0"
  }
 },
 "nbformat": 4,
 "nbformat_minor": 4
}
