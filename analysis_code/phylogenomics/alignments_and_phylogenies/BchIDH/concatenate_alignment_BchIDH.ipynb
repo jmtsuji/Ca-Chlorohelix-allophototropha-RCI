{
 "cells": [
  {
   "cell_type": "code",
   "execution_count": 1,
   "metadata": {},
   "outputs": [],
   "source": [
    "# Concatenate multi-gene alignments\n",
    "# Very simple code to do this for exactly three pre-aligned FastA files\n",
    "#  having samples in the exact same order and the exact same sample name across files before a double underscore\n",
    "# Copyright Jackson M. Tsuji, Neufeld Research Group, 2020"
   ]
  },
  {
   "cell_type": "code",
   "execution_count": 2,
   "metadata": {},
   "outputs": [],
   "source": [
    "from Bio.SeqIO.FastaIO import SimpleFastaParser"
   ]
  },
  {
   "cell_type": "code",
   "execution_count": 3,
   "metadata": {},
   "outputs": [],
   "source": [
    "# User variables\n",
    "alignment_filepath_1 = 'BchI/BchI_aligned_masked.faa'\n",
    "alignment_filepath_2 = 'BchD/BchD_aligned_masked.faa'\n",
    "alignment_filepath_3 = 'BchH/BchH_aligned_masked.faa'\n",
    "output_filepath = 'BchIDH_aligned_masked.faa'"
   ]
  },
  {
   "cell_type": "code",
   "execution_count": 4,
   "metadata": {},
   "outputs": [],
   "source": [
    "# Open file handles\n",
    "fasta_handle_1 = open(alignment_filepath_1, 'r')\n",
    "fasta_handle_2 = open(alignment_filepath_2, 'r')\n",
    "fasta_handle_3 = open(alignment_filepath_3, 'r')\n",
    "\n",
    "fasta_output_handle = open(output_filepath, 'w')"
   ]
  },
  {
   "cell_type": "code",
   "execution_count": null,
   "metadata": {},
   "outputs": [],
   "source": [
    "for record_1, record_2, record_3 in zip(SimpleFastaParser(fasta_handle_1), SimpleFastaParser(fasta_handle_2),\n",
    "                                        SimpleFastaParser(fasta_handle_3)):\n",
    "    # Parse FastQ info\n",
    "    header_1, seq_1 = record_1\n",
    "    header_2, seq_2 = record_2\n",
    "    header_3, seq_3 = record_3\n",
    "\n",
    "    # Get reduced header\n",
    "    id_1 = header_1.split('__')[0]\n",
    "    id_2 = header_2.split('__')[0]\n",
    "    id_3 = header_3.split('__')[0]\n",
    "    # TODO - check that there are only two entries in each list after splitting (but for now, the match check should fail anyway)\n",
    "\n",
    "    # Check the sequence IDs match\n",
    "    if id_1 != id_2 or id_1 != id_3:\n",
    "        print('ERROR: IDs do not match')\n",
    "        print('1: ' + id_1)\n",
    "        print('2: ' + id_2)\n",
    "        print('3: ' + id_3)\n",
    "        sys.exit(1)\n",
    "\n",
    "    # Merge sequences\n",
    "    merged_sequence = seq_1 + seq_2 + seq_3\n",
    "\n",
    "    # Write\n",
    "    fasta_output_handle.write('>{id}\\n{seq}\\n'.format(id=id_1, seq=merged_sequence))"
   ]
  },
  {
   "cell_type": "code",
   "execution_count": 6,
   "metadata": {},
   "outputs": [
    {
     "name": "stdout",
     "output_type": "stream",
     "text": [
      "Finished.\n"
     ]
    }
   ],
   "source": [
    "# Close file handles\n",
    "fasta_handle_1.close()\n",
    "fasta_handle_2.close()\n",
    "fasta_handle_3.close()\n",
    "fasta_output_handle.close()\n",
    "\n",
    "print(\"Finished.\")"
   ]
  },
  {
   "cell_type": "code",
   "execution_count": null,
   "metadata": {},
   "outputs": [],
   "source": []
  }
 ],
 "metadata": {
  "kernelspec": {
   "display_name": "Python 3",
   "language": "python",
   "name": "python3"
  },
  "language_info": {
   "codemirror_mode": {
    "name": "ipython",
    "version": 3
   },
   "file_extension": ".py",
   "mimetype": "text/x-python",
   "name": "python",
   "nbconvert_exporter": "python",
   "pygments_lexer": "ipython3",
   "version": "3.8.3"
  }
 },
 "nbformat": 4,
 "nbformat_minor": 4
}
